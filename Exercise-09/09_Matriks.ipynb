{
 "cells": [
  {
   "cell_type": "markdown",
   "metadata": {},
   "source": [
    "# Exercise 09  \n",
    "### OPERASI MATRIKS  \n",
    "Silahkan lengkapi kode yang rumpang sesuai perintah yang diberikan.\n"
   ]
  },
  {
   "cell_type": "markdown",
   "metadata": {},
   "source": [
    "![](./image/1.png)"
   ]
  },
  {
   "cell_type": "code",
   "execution_count": 24,
   "metadata": {},
   "outputs": [],
   "source": [
    "A = [[97,97],\n",
    "     [97,97]]\n",
    "\n",
    "B = [[89, 89],\n",
    "     [89, 89]]\n"
   ]
  },
  {
   "cell_type": "markdown",
   "metadata": {},
   "source": [
    "Buatlah matriks menggunakan metode perulangan for dengan ketentuan sebagai berikut:\n",
    "* Matriks A berisi angka sebesar 4 setelah nim kalian. (ex: nim = 12, nilai matriks [16, 16],[16,16])\n",
    "* Matriks B berisi angka sebesar 4 sebelum nim kalian. (ex: nim = 12, nilai matriks [8, 8],[8,8])\n"
   ]
  },
  {
   "cell_type": "code",
   "execution_count": 1,
   "metadata": {},
   "outputs": [
    {
     "ename": "NameError",
     "evalue": "name 'A' is not defined",
     "output_type": "error",
     "traceback": [
      "\u001b[1;31m---------------------------------------------------------------------------\u001b[0m",
      "\u001b[1;31mNameError\u001b[0m                                 Traceback (most recent call last)",
      "\u001b[1;32md:\\file kuliah\\Semester 2\\Praktikum Programa Komputer\\I0321093-Safiro-Prokom\\Exercise-09\\09_Matriks.ipynb Cell 5'\u001b[0m in \u001b[0;36m<cell line: 5>\u001b[1;34m()\u001b[0m\n\u001b[0;32m      <a href='vscode-notebook-cell:/d%3A/file%20kuliah/Semester%202/Praktikum%20Programa%20Komputer/I0321093-Safiro-Prokom/Exercise-09/09_Matriks.ipynb#ch0000004?line=2'>3</a>\u001b[0m         \u001b[39mfor\u001b[39;00m k \u001b[39min\u001b[39;00m \u001b[39mrange\u001b[39m(\u001b[39m2\u001b[39m):\n\u001b[0;32m      <a href='vscode-notebook-cell:/d%3A/file%20kuliah/Semester%202/Praktikum%20Programa%20Komputer/I0321093-Safiro-Prokom/Exercise-09/09_Matriks.ipynb#ch0000004?line=3'>4</a>\u001b[0m             matriks[i][k] \u001b[39m=\u001b[39m nim \n\u001b[1;32m----> <a href='vscode-notebook-cell:/d%3A/file%20kuliah/Semester%202/Praktikum%20Programa%20Komputer/I0321093-Safiro-Prokom/Exercise-09/09_Matriks.ipynb#ch0000004?line=4'>5</a>\u001b[0m create(A, \u001b[39m97\u001b[39m)\n\u001b[0;32m      <a href='vscode-notebook-cell:/d%3A/file%20kuliah/Semester%202/Praktikum%20Programa%20Komputer/I0321093-Safiro-Prokom/Exercise-09/09_Matriks.ipynb#ch0000004?line=5'>6</a>\u001b[0m create(B, \u001b[39m89\u001b[39m)\n\u001b[0;32m      <a href='vscode-notebook-cell:/d%3A/file%20kuliah/Semester%202/Praktikum%20Programa%20Komputer/I0321093-Safiro-Prokom/Exercise-09/09_Matriks.ipynb#ch0000004?line=7'>8</a>\u001b[0m \u001b[39mprint\u001b[39m(A)\n",
      "\u001b[1;31mNameError\u001b[0m: name 'A' is not defined"
     ]
    }
   ],
   "source": [
    "def create(matriks, nim):\n",
    "    for i in range(2):\n",
    "        for k in range(2):\n",
    "            matriks[i][k] = nim \n",
    "create(A, 97)\n",
    "create(B, 89)\n",
    "\n",
    "print(A)\n",
    "print(B)"
   ]
  },
  {
   "cell_type": "markdown",
   "metadata": {},
   "source": [
    "## KERJAKAN SOAL BERIKUT\n",
    "1. Buatlah program penjumlahan matriks A dan B.\n",
    "2. Buatlah program pengurangan matriks A dan B.\n",
    "3. Buatlah program perkalian matriks A dan B."
   ]
  },
  {
   "cell_type": "code",
   "execution_count": null,
   "metadata": {},
   "outputs": [],
   "source": [
    "#SOAL-1\n",
    "#YOUR CODE HERE"
   ]
  },
  {
   "cell_type": "code",
   "execution_count": null,
   "metadata": {},
   "outputs": [],
   "source": [
    "#SOAL-2\n",
    "#YOUR CODE HERE"
   ]
  },
  {
   "cell_type": "code",
   "execution_count": null,
   "metadata": {},
   "outputs": [],
   "source": [
    "#SOAL-3\n",
    "#YOUR CODE HERE"
   ]
  },
  {
   "cell_type": "markdown",
   "metadata": {},
   "source": [
    "### Cara Pengumpulan\n",
    "\n",
    "1. Buka *New Terminal*\n",
    "2. Pastikan *path* Terminal adalah folder repositori kalian (NIM-Nama-Prokom).\n",
    "3. Tambahkan file yang akan ditrack dengan `git add <nama file>`. Nama file bisa diubah . (titik)  `git add .`yang artinya semua file dalam folder akan ditrack.\n",
    "4. Lakukan commit perubahan dengan `git commit -m <deskripsi>`.\n",
    "5. Lakukan push dengan `git push -u origin <nama branch>`. Nama branch dapat diketahui dengan `git branch`.\n",
    "6. Pastikan Exercise-02 telah terupload dan dapat diakses di repositori dengan mengaksesnya di browser."
   ]
  }
 ],
 "metadata": {
  "interpreter": {
   "hash": "14958d3aee5f1cad06795f787e54b96185c25fb40dfec723a5be941f3a531b8c"
  },
  "kernelspec": {
   "display_name": "Python 3.9.7 64-bit",
   "language": "python",
   "name": "python3"
  },
  "language_info": {
   "codemirror_mode": {
    "name": "ipython",
    "version": 3
   },
   "file_extension": ".py",
   "mimetype": "text/x-python",
   "name": "python",
   "nbconvert_exporter": "python",
   "pygments_lexer": "ipython3",
   "version": "3.9.7"
  },
  "orig_nbformat": 4
 },
 "nbformat": 4,
 "nbformat_minor": 2
}
