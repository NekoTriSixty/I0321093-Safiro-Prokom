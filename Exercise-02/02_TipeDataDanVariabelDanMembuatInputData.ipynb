{
 "cells": [
  {
   "cell_type": "markdown",
   "metadata": {},
   "source": [
    "# Exercise 2\n",
    "\n",
    "1. Salinlah kode di bawah ini dan isilah titik-titik sesuai dengan perintah yang ada\n",
    "![](./images/02_TipeDataDanVariabel.png)"
   ]
  },
  {
   "cell_type": "code",
   "execution_count": 4,
   "metadata": {},
   "outputs": [
    {
     "name": "stdout",
     "output_type": "stream",
     "text": [
      "Nama lengkap saya adalah Safiro Permata Putra\n",
      "Nama panggilan saya adalah Petra\n",
      "Umur saya saat ini adalah 20\n",
      "Tipe data variabel umur adalah <class 'int'>\n",
      "Umur saya saat ini adalah dua puluh tahun\n",
      "Tipe data variabel umur adalah <class 'str'>\n",
      "Tinggi badan saya adalah 165.5\n",
      "Tipe data variabel tinggi badan adalah <class 'float'>\n",
      "saya merupakan mahasiswa angkatan 2021 adalah True\n",
      "Tipe data variabel mahasiswaangkatan2021 adalah <class 'bool'>\n"
     ]
    }
   ],
   "source": [
    "#proses memasukkan data dalam variabel\n",
    "Nama = (\"Safiro Permata Putra\") #isi dengan nama lengkap kalian\n",
    "nama = (\"Petra\") #isi dengan nama panggilan kalian\n",
    "#proses mencetak variabel\n",
    "print(\"Nama lengkap saya adalah\", Nama) #isi bagian rumpang dengan nama variabel yang sesuai\n",
    "print(\"Nama panggilan saya adalah\", nama)\n",
    "\n",
    "#nilai dan tipe dalam variabel dapat diubah\n",
    "_umur = 20 #isi dengan umur kalian\n",
    "print(\"Umur saya saat ini adalah\", _umur) #mencetak nilai umur\n",
    "print(\"Tipe data variabel umur adalah\", type(_umur))\n",
    "_umur = (\"dua puluh tahun\") #isi dengan teks berupa umur kalian jika dijadikan kalimat, misal \"sepuluh tahun\"\n",
    "print(\"Umur saya saat ini adalah\", _umur) #mencetak nilai umur\n",
    "print(\"Tipe data variabel umur adalah\", type(_umur))\n",
    "tinggi_badan = 165.5 #isi dengan tinggi badan kalian ditambah 0.5\n",
    "print(\"Tinggi badan saya adalah\", tinggi_badan) #mencetak tinggi badan\n",
    "print(\"Tipe data variabel tinggi badan adalah\", type(tinggi_badan))\n",
    "mahasiswaangkatan2021 = True\n",
    "print(\"saya merupakan mahasiswa angkatan 2021 adalah\", mahasiswaangkatan2021)\n",
    "print(\"Tipe data variabel mahasiswaangkatan2021 adalah\", type(mahasiswaangkatan2021))"
   ]
  },
  {
   "cell_type": "markdown",
   "metadata": {},
   "source": [
    "2. Salinlah kode di bawah ini dan isilah titik-titik sesuai dengan perintah yang ada\n",
    "![](./images/02_MembuatInputData.png)"
   ]
  },
  {
   "cell_type": "code",
   "execution_count": 9,
   "metadata": {},
   "outputs": [
    {
     "name": "stdout",
     "output_type": "stream",
     "text": [
      "Program Konversi Panjang dalan Meter ke Berbagai Satuan\n",
      "\n",
      "\n",
      "50 m = 0.05 km\n",
      "50 m = 5000 cm\n",
      "50 m = 50000 mm\n",
      "50 m = 50000000 μm\n",
      "50 m = 0.05 nm\n",
      "50 m = 1968.5039 in\n",
      "50 m = 164.042 ft\n",
      "50 m = 54.6807 yard\n",
      "50 m = 0.0311 mi\n",
      "50 m = 0.0886 nmi\n"
     ]
    }
   ],
   "source": [
    "print(\"Program Konversi Panjang dalan Meter ke Berbagai Satuan\")\n",
    "print(\"\")\n",
    "length = int(input(\"Masukkan nilai panjang dalam meter: \"))\n",
    "feet = length / 0.3048\n",
    "print(\"\")\n",
    "print(length, \"m =\", length / 1000, \"km\") #meter ke kilometer\n",
    "print(length, \"m =\", length * 100, \"cm\") #meter ke centimeter\n",
    "print(length, \"m =\", length * 1000, \"mm\") #meter ke milimeter\n",
    "print(length, \"m =\", length * 1000000, \"μm\") #meter ke mikrometer\n",
    "print(length, \"m =\", length / 1000, \"nm\") #meter ke nanometer\n",
    "#Round berfungsi untuk membulatkankan hasil ke N angka di belakang koma\n",
    "print(length, \"m =\", round(feet * 12, 4), \"in\") #meter ke inchi\n",
    "print(length, \"m =\", round(feet, 4), \"ft\") #meter ke kaki\n",
    "print(length, \"m =\", round(feet / 3, 4), \"yard\") #meter ke yard\n",
    "print(length, \"m =\", round(feet / 5280, 4), \"mi\") #meter ke mil\n",
    "print(length, \"m =\", round(feet / 1852, 4), \"nmi\") #meter ke mil laut\n"
   ]
  },
  {
   "cell_type": "markdown",
   "metadata": {},
   "source": [
    "### Cara Pengumpulan\n",
    "\n",
    "1. Buka *New Terminal*\n",
    "2. Pastikan *path* Terminal adalah folder repositori kalian (NIM-Nama-Prokom).\n",
    "3. Tambahkan file yang akan ditrack dengan `git add <nama file>`. Nama file bisa diubah . (titik) yang artinya semua file dalam folder akan ditrack.\n",
    "4. Lakukan commit perubahan dengan `git commit -m <deskripsi>`.\n",
    "5. Lakukan push dengan `git push -u origin <nama branch>`. Nama branch dapat diketahui dengan `git branch`.\n",
    "6. Pastikan Exercise-02 telah terupload dan dapat diakses di repositori dengan mengaksesnya di browser."
   ]
  }
 ],
 "metadata": {
  "interpreter": {
   "hash": "ac59ebe37160ed0dfa835113d9b8498d9f09ceb179beaac4002f036b9467c963"
  },
  "kernelspec": {
   "display_name": "Python 3.9.8 64-bit",
   "language": "python",
   "name": "python3"
  },
  "language_info": {
   "codemirror_mode": {
    "name": "ipython",
    "version": 3
   },
   "file_extension": ".py",
   "mimetype": "text/x-python",
   "name": "python",
   "nbconvert_exporter": "python",
   "pygments_lexer": "ipython3",
   "version": "3.9.7"
  },
  "orig_nbformat": 4
 },
 "nbformat": 4,
 "nbformat_minor": 2
}
